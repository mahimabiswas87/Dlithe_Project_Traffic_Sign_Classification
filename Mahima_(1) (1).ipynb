{
  "nbformat": 4,
  "nbformat_minor": 0,
  "metadata": {
    "kernelspec": {
      "name": "python3",
      "display_name": "Python 3",
      "language": "python"
    },
    "language_info": {
      "name": "python",
      "version": "3.6.6",
      "mimetype": "text/x-python",
      "codemirror_mode": {
        "name": "ipython",
        "version": 3
      },
      "pygments_lexer": "ipython3",
      "nbconvert_exporter": "python",
      "file_extension": ".py"
    },
    "colab": {
      "name": "Mahima (1).ipynb",
      "provenance": [],
      "collapsed_sections": []
    }
  },
  "cells": [
    {
      "cell_type": "markdown",
      "metadata": {
        "id": "mpqq2qJrt1Jd"
      },
      "source": [
        "This is the another version of already written convolutional neural network but i have made some changes to the layers and the epochs to gain high accuracy\n"
      ]
    },
    {
      "cell_type": "markdown",
      "metadata": {
        "id": "HXTvxGSfgrJn"
      },
      "source": [
        "**Traffic Signs Recognition**\n",
        "\n",
        "\n",
        "> Traffic signs can be analysed using forward-facing cameras in many modern cars, vehicles and trucks. One of the basic use cases of a traffic-sign recognition system is for speed limits. Modern traffic-sign recognition systems are being developed using convolutional neural networks, mainly driven by the requirements of autonomous vehicles and self-driving cars. In these scenarios, the detection system needs to identify a variety of traffic signs and not just speed limits. A convolutional neural network can be trained to take in these predefined traffic signs and 'learn' using Deep Learning techniques.\n",
        "\n",
        "\n",
        "\n",
        "> The German Traffic signs recognition benchmark dataset (GTSRB) is used to build a Data Science Project on Traffic Signs Recognition using CNN in Python language.\n",
        "\n"
      ]
    },
    {
      "cell_type": "markdown",
      "metadata": {
        "id": "lFaFB0n9hir6"
      },
      "source": [
        " ![images.jpg](data:image/jpeg;base64,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)\n"
      ]
    },
    {
      "cell_type": "markdown",
      "metadata": {
        "id": "XEPBEkD2huW2"
      },
      "source": [
        "\n",
        "\n",
        "```\n",
        "import numpy as np \n",
        "```\n",
        "NumPy is a python library used for working with arrays.\n",
        "\n",
        "\n",
        "```\n",
        "import pandas as pd \n",
        "```\n",
        "Pandas is a high-level data manipulation tool developed by Wes McKinney. It is built on the Numpy package and its key data structure is called the DataFrame. DataFrames allow you to store and manipulate tabular data in rows of observations and columns of variables.\n",
        "\n",
        "```\n",
        "import matplotlib.pyplot as plt\n",
        "```\n",
        " matplotlib.pyplot keeps track of the current figure and plotting area, and the plotting functions are directed to the current axes.\n",
        "\n",
        "\n",
        "```\n",
        "import tensorflow as tf\n",
        "```\n",
        "TensorFlow is a Python library for fast numerical computing created and released by Google. \n",
        "\n",
        "\n",
        "```\n",
        "import cv2\n",
        "```\n",
        "OpenCV-Python is a library of Python bindings designed to solve computer vision problems. \n",
        "\n",
        "\n",
        "```\n",
        "from PIL import Image\n",
        "```\n",
        "To load the image, we simply import the image module from the pillow and call the Image.\n",
        "\n",
        "\n",
        "```\n",
        "import os\n",
        "```\n",
        "The OS module in Python provides a way of using operating system dependent functionality."
      ]
    },
    {
      "cell_type": "code",
      "metadata": {
        "_uuid": "8f2839f25d086af736a60e9eeb907d3b93b6e0e5",
        "_cell_guid": "b1076dfc-b9ad-4769-8c92-a6c4dae69d19",
        "trusted": true,
        "id": "MV4gckb0t1Je",
        "outputId": "ed7c714a-b4a0-40ee-bb92-db3a87fdd71a"
      },
      "source": [
        "# Libraries \n",
        "import numpy as np \n",
        "import pandas as pd \n",
        "import matplotlib.pyplot as plt\n",
        "import tensorflow as tf\n",
        "import cv2\n",
        "from PIL import Image\n",
        "import os\n"
      ],
      "execution_count": null,
      "outputs": [
        {
          "output_type": "stream",
          "text": [
            "/opt/conda/lib/python3.6/site-packages/tensorflow/python/framework/dtypes.py:516: FutureWarning: Passing (type, 1) or '1type' as a synonym of type is deprecated; in a future version of numpy, it will be understood as (type, (1,)) / '(1,)type'.\n",
            "  _np_qint8 = np.dtype([(\"qint8\", np.int8, 1)])\n",
            "/opt/conda/lib/python3.6/site-packages/tensorflow/python/framework/dtypes.py:517: FutureWarning: Passing (type, 1) or '1type' as a synonym of type is deprecated; in a future version of numpy, it will be understood as (type, (1,)) / '(1,)type'.\n",
            "  _np_quint8 = np.dtype([(\"quint8\", np.uint8, 1)])\n",
            "/opt/conda/lib/python3.6/site-packages/tensorflow/python/framework/dtypes.py:518: FutureWarning: Passing (type, 1) or '1type' as a synonym of type is deprecated; in a future version of numpy, it will be understood as (type, (1,)) / '(1,)type'.\n",
            "  _np_qint16 = np.dtype([(\"qint16\", np.int16, 1)])\n",
            "/opt/conda/lib/python3.6/site-packages/tensorflow/python/framework/dtypes.py:519: FutureWarning: Passing (type, 1) or '1type' as a synonym of type is deprecated; in a future version of numpy, it will be understood as (type, (1,)) / '(1,)type'.\n",
            "  _np_quint16 = np.dtype([(\"quint16\", np.uint16, 1)])\n",
            "/opt/conda/lib/python3.6/site-packages/tensorflow/python/framework/dtypes.py:520: FutureWarning: Passing (type, 1) or '1type' as a synonym of type is deprecated; in a future version of numpy, it will be understood as (type, (1,)) / '(1,)type'.\n",
            "  _np_qint32 = np.dtype([(\"qint32\", np.int32, 1)])\n",
            "/opt/conda/lib/python3.6/site-packages/tensorflow/python/framework/dtypes.py:525: FutureWarning: Passing (type, 1) or '1type' as a synonym of type is deprecated; in a future version of numpy, it will be understood as (type, (1,)) / '(1,)type'.\n",
            "  np_resource = np.dtype([(\"resource\", np.ubyte, 1)])\n",
            "/opt/conda/lib/python3.6/site-packages/tensorboard/compat/tensorflow_stub/dtypes.py:541: FutureWarning: Passing (type, 1) or '1type' as a synonym of type is deprecated; in a future version of numpy, it will be understood as (type, (1,)) / '(1,)type'.\n",
            "  _np_qint8 = np.dtype([(\"qint8\", np.int8, 1)])\n",
            "/opt/conda/lib/python3.6/site-packages/tensorboard/compat/tensorflow_stub/dtypes.py:542: FutureWarning: Passing (type, 1) or '1type' as a synonym of type is deprecated; in a future version of numpy, it will be understood as (type, (1,)) / '(1,)type'.\n",
            "  _np_quint8 = np.dtype([(\"quint8\", np.uint8, 1)])\n",
            "/opt/conda/lib/python3.6/site-packages/tensorboard/compat/tensorflow_stub/dtypes.py:543: FutureWarning: Passing (type, 1) or '1type' as a synonym of type is deprecated; in a future version of numpy, it will be understood as (type, (1,)) / '(1,)type'.\n",
            "  _np_qint16 = np.dtype([(\"qint16\", np.int16, 1)])\n",
            "/opt/conda/lib/python3.6/site-packages/tensorboard/compat/tensorflow_stub/dtypes.py:544: FutureWarning: Passing (type, 1) or '1type' as a synonym of type is deprecated; in a future version of numpy, it will be understood as (type, (1,)) / '(1,)type'.\n",
            "  _np_quint16 = np.dtype([(\"quint16\", np.uint16, 1)])\n",
            "/opt/conda/lib/python3.6/site-packages/tensorboard/compat/tensorflow_stub/dtypes.py:545: FutureWarning: Passing (type, 1) or '1type' as a synonym of type is deprecated; in a future version of numpy, it will be understood as (type, (1,)) / '(1,)type'.\n",
            "  _np_qint32 = np.dtype([(\"qint32\", np.int32, 1)])\n",
            "/opt/conda/lib/python3.6/site-packages/tensorboard/compat/tensorflow_stub/dtypes.py:550: FutureWarning: Passing (type, 1) or '1type' as a synonym of type is deprecated; in a future version of numpy, it will be understood as (type, (1,)) / '(1,)type'.\n",
            "  np_resource = np.dtype([(\"resource\", np.ubyte, 1)])\n"
          ],
          "name": "stderr"
        }
      ]
    },
    {
      "cell_type": "markdown",
      "metadata": {
        "id": "wE06HDhpl8_o"
      },
      "source": [
        "**path** − This is the directory, which needs to be explored.\n",
        "\n",
        "Python method **listdir()** returns a list containing the names of the entries in the directory given by path. The list is in arbitrary order.\n",
        "\n",
        "The **try** block lets you test a block of code for errors. The **except** block lets you handle the error. \n",
        "\n",
        "**np.arange()** is one of the array creation routines based on numerical ranges.\n",
        "\n",
        "**random.seed()**  -\n",
        "random() function generates numbers for some values. This value is also called seed value.\n",
        "\n",
        "**numpy.random.shuffle()**-Used to get the random positioning of different integer values in the numpy array or we can say that all the values in an array will be shuffled randomly.\n",
        "\n",
        "\n"
      ]
    },
    {
      "cell_type": "code",
      "metadata": {
        "_cell_guid": "79c7e3d0-c299-4dcb-8224-4455121ee9b0",
        "_uuid": "d629ff2d2480ee46fbb7e2d37f6b5fab8052498a",
        "trusted": true,
        "id": "kZ3WSoZat1Jk",
        "outputId": "7b19fe20-d587-4474-b92e-4847cfde6262"
      },
      "source": [
        "# Reading the input images and putting them into a numpy array\n",
        "data=[]\n",
        "labels=[]\n",
        "\n",
        "height = 30\n",
        "width = 30\n",
        "channels = 3\n",
        "classes = 43\n",
        "n_inputs = height * width*channels\n",
        "\n",
        "for i in range(classes) :\n",
        "    path = \"../input/train/{0}/\".format(i)\n",
        "    print(path)\n",
        "    Class=os.listdir(path)\n",
        "    for a in Class:\n",
        "        try:\n",
        "            image=cv2.imread(path+a)\n",
        "            image_from_array = Image.fromarray(image, 'RGB')\n",
        "            size_image = image_from_array.resize((height, width))\n",
        "            data.append(np.array(size_image))\n",
        "            labels.append(i)\n",
        "        except AttributeError:\n",
        "            print(\" \")\n",
        "            \n",
        "Cells=np.array(data)\n",
        "labels=np.array(labels)\n",
        "\n",
        "#Randomize the order of the input images\n",
        "s=np.arange(Cells.shape[0])\n",
        "np.random.seed(43)\n",
        "np.random.shuffle(s)\n",
        "Cells=Cells[s]\n",
        "labels=labels[s]"
      ],
      "execution_count": null,
      "outputs": [
        {
          "output_type": "stream",
          "text": [
            "../input/train/0/\n",
            "../input/train/1/\n",
            "../input/train/2/\n",
            "../input/train/3/\n",
            "../input/train/4/\n",
            "../input/train/5/\n",
            "../input/train/6/\n",
            "../input/train/7/\n",
            "../input/train/8/\n",
            "../input/train/9/\n",
            "../input/train/10/\n",
            "../input/train/11/\n",
            "../input/train/12/\n",
            "../input/train/13/\n",
            "../input/train/14/\n",
            "../input/train/15/\n",
            "../input/train/16/\n",
            "../input/train/17/\n",
            "../input/train/18/\n",
            "../input/train/19/\n",
            "../input/train/20/\n",
            "../input/train/21/\n",
            "../input/train/22/\n",
            "../input/train/23/\n",
            "../input/train/24/\n",
            "../input/train/25/\n",
            "../input/train/26/\n",
            "../input/train/27/\n",
            "../input/train/28/\n",
            "../input/train/29/\n",
            "../input/train/30/\n",
            "../input/train/31/\n",
            "../input/train/32/\n",
            "../input/train/33/\n",
            "../input/train/34/\n",
            "../input/train/35/\n",
            "../input/train/36/\n",
            "../input/train/37/\n",
            "../input/train/38/\n",
            "../input/train/39/\n",
            "../input/train/40/\n",
            "../input/train/41/\n",
            "../input/train/42/\n"
          ],
          "name": "stdout"
        }
      ]
    },
    {
      "cell_type": "markdown",
      "metadata": {
        "id": "ISukDTNPziz2"
      },
      "source": [
        "**Training set:** A set of examples used for learning, that is to fit the parameters of the classifier. \n",
        "\n",
        "**Validation set:** A set of examples used to tune the parameters of a classifier\n",
        "\n",
        "Keras provides numpy utility library, which provides functions to perform actions on numpy arrays.\n",
        "\n",
        "Using the method to_categorical(), a numpy array (or) a vector which has integers that represent different categories, can be converted into a numpy array (or) a matrix which has binary values and has columns equal to the number of categories in the data."
      ]
    },
    {
      "cell_type": "code",
      "metadata": {
        "trusted": true,
        "id": "laib32Rat1Jn"
      },
      "source": [
        "#Spliting the images into train and validation sets\n",
        "(X_train,X_val)=Cells[(int)(0.2*len(labels)):],Cells[:(int)(0.2*len(labels))]\n",
        "X_train = X_train.astype('float32')/255 \n",
        "X_val = X_val.astype('float32')/255\n",
        "(y_train,y_val)=labels[(int)(0.2*len(labels)):],labels[:(int)(0.2*len(labels))]\n",
        "\n",
        "#Using one hote encoding for the train and validation labels\n",
        "from keras.utils import to_categorical\n",
        "y_train = to_categorical(y_train, 43)\n",
        "y_val = to_categorical(y_val, 43)"
      ],
      "execution_count": null,
      "outputs": []
    },
    {
      "cell_type": "markdown",
      "metadata": {
        "id": "xg8Eixh46OBN"
      },
      "source": [
        "\n",
        "\n",
        "```\n",
        "from keras.models import Sequential\n",
        "```\n",
        "\n",
        "> From the definition of Keras documentation the Sequential model is a linear stack of layers. \n",
        "\n",
        "\n",
        "\n",
        "```\n",
        "from keras.layers import Conv2D, MaxPool2D, Dense, Flatten, Dropout\n",
        "```\n",
        "\n",
        "> A layer is a callable object that takes as input one or more tensors and that outputs one or more tensors.\n",
        "\n",
        "Keras **Conv2D** is a 2D Convolution Layer, this layer creates a convolution kernel that is wind with layers input which helps produce a tensor of outputs.\n",
        "\n",
        "**MaxPooling2D**- Max pooling operation for 2D spatial data. Downsamples the input representation by taking the maximum value over the window defined by pool_size for each dimension along the features axis. \n",
        "\n",
        "**Dense layer** is the regular deeply connected neural network layer. \n",
        "\n",
        "A **flatten layer** collapses the spatial dimensions of the input into the channel dimension. \n",
        "\n",
        "The **Dropout layer** randomly sets input units to 0 with a frequency of rate at each step during training time, which helps prevent overfitting.\n",
        "\n",
        "Keras model provides a method, **compile()** to compile the model.\n",
        "\n",
        "\n",
        "\n",
        "\n",
        "\n"
      ]
    },
    {
      "cell_type": "code",
      "metadata": {
        "trusted": true,
        "id": "aoLyNKmTt1Jp"
      },
      "source": [
        "#Definition of the DNN model\n",
        "\n",
        "from keras.models import Sequential\n",
        "from keras.layers import Conv2D, MaxPool2D, Dense, Flatten, Dropout\n",
        "\n",
        "model = Sequential()\n",
        "model.add(Conv2D(filters=32, kernel_size=(5,5), activation='relu', input_shape=X_train.shape[1:]))\n",
        "model.add(Conv2D(filters=64, kernel_size=(3, 3), activation='relu'))\n",
        "model.add(MaxPool2D(pool_size=(2, 2)))\n",
        "model.add(Dropout(rate=0.25))\n",
        "model.add(Conv2D(filters=64, kernel_size=(3, 3), activation='relu'))\n",
        "model.add(MaxPool2D(pool_size=(2, 2)))\n",
        "model.add(Dropout(rate=0.25))\n",
        "model.add(Flatten())\n",
        "model.add(Dense(256, activation='relu'))\n",
        "model.add(Dropout(rate=0.5))\n",
        "model.add(Dense(43, activation='softmax'))\n",
        "\n",
        "#Compilation of the model\n",
        "model.compile(\n",
        "    loss='categorical_crossentropy', \n",
        "    optimizer='adam', \n",
        "    metrics=['accuracy']\n",
        ")"
      ],
      "execution_count": null,
      "outputs": []
    },
    {
      "cell_type": "markdown",
      "metadata": {
        "id": "rY-udTidAWYa"
      },
      "source": [
        "An **epoch** is a measure of the number of times all of the training vectors are used once to update the weights.\n",
        "\n",
        "**. fit()** function it makes assumptions: The entire training set can fit into the Random Access Memory of the computer."
      ]
    },
    {
      "cell_type": "code",
      "metadata": {
        "trusted": true,
        "id": "SgNukd9St1Jt",
        "outputId": "b7d2141c-c833-45c2-94c5-1a597e314d2a"
      },
      "source": [
        "#using ten epochs for the training and saving the accuracy for each epoch\n",
        "epochs = 20\n",
        "history = model.fit(X_train, y_train, batch_size=32, epochs=epochs,\n",
        "validation_data=(X_val, y_val))\n",
        "\n",
        "#Display of the accuracy and the loss values\n",
        "import matplotlib.pyplot as plt\n",
        "\n",
        "plt.figure(0)\n",
        "plt.plot(history.history['acc'], label='training accuracy')\n",
        "plt.plot(history.history['val_acc'], label='val accuracy')\n",
        "plt.title('Accuracy')\n",
        "plt.xlabel('epochs')\n",
        "plt.ylabel('accuracy')\n",
        "plt.legend()\n",
        "\n",
        "plt.figure(1)\n",
        "plt.plot(history.history['loss'], label='training loss')\n",
        "plt.plot(history.history['val_loss'], label='val loss')\n",
        "plt.title('Loss')\n",
        "plt.xlabel('epochs')\n",
        "plt.ylabel('loss')\n",
        "plt.legend()"
      ],
      "execution_count": null,
      "outputs": [
        {
          "output_type": "stream",
          "text": [
            "Train on 31368 samples, validate on 7841 samples\n",
            "Epoch 1/20\n",
            "31368/31368 [==============================] - 13s 423us/step - loss: 1.2687 - acc: 0.6400 - val_loss: 0.2215 - val_acc: 0.9384\n",
            "Epoch 2/20\n",
            "31368/31368 [==============================] - 6s 196us/step - loss: 0.2946 - acc: 0.9074 - val_loss: 0.0870 - val_acc: 0.9762\n",
            "Epoch 3/20\n",
            "31368/31368 [==============================] - 6s 187us/step - loss: 0.1833 - acc: 0.9436 - val_loss: 0.0743 - val_acc: 0.9815\n",
            "Epoch 4/20\n",
            "31368/31368 [==============================] - 6s 189us/step - loss: 0.1377 - acc: 0.9570 - val_loss: 0.0638 - val_acc: 0.9843\n",
            "Epoch 5/20\n",
            "31368/31368 [==============================] - 6s 181us/step - loss: 0.1156 - acc: 0.9630 - val_loss: 0.0543 - val_acc: 0.9867\n",
            "Epoch 6/20\n",
            "31368/31368 [==============================] - 7s 209us/step - loss: 0.1049 - acc: 0.9679 - val_loss: 0.0434 - val_acc: 0.9875\n",
            "Epoch 7/20\n",
            "31368/31368 [==============================] - 6s 187us/step - loss: 0.0895 - acc: 0.9713 - val_loss: 0.0329 - val_acc: 0.9911\n",
            "Epoch 8/20\n",
            "31368/31368 [==============================] - 6s 199us/step - loss: 0.0812 - acc: 0.9748 - val_loss: 0.0383 - val_acc: 0.9902\n",
            "Epoch 9/20\n",
            "31368/31368 [==============================] - 6s 181us/step - loss: 0.0809 - acc: 0.9754 - val_loss: 0.0339 - val_acc: 0.9920\n",
            "Epoch 10/20\n",
            "31368/31368 [==============================] - 6s 190us/step - loss: 0.0683 - acc: 0.9792 - val_loss: 0.0320 - val_acc: 0.9912\n",
            "Epoch 11/20\n",
            "31368/31368 [==============================] - 6s 180us/step - loss: 0.0639 - acc: 0.9792 - val_loss: 0.0224 - val_acc: 0.9938\n",
            "Epoch 12/20\n",
            "31368/31368 [==============================] - 6s 193us/step - loss: 0.0607 - acc: 0.9814 - val_loss: 0.0339 - val_acc: 0.9909\n",
            "Epoch 13/20\n",
            "31368/31368 [==============================] - 6s 199us/step - loss: 0.0552 - acc: 0.9831 - val_loss: 0.0253 - val_acc: 0.9931\n",
            "Epoch 14/20\n",
            "31368/31368 [==============================] - 6s 180us/step - loss: 0.0597 - acc: 0.9824 - val_loss: 0.0294 - val_acc: 0.9913\n",
            "Epoch 15/20\n",
            "31368/31368 [==============================] - 6s 190us/step - loss: 0.0578 - acc: 0.9823 - val_loss: 0.0209 - val_acc: 0.9936\n",
            "Epoch 16/20\n",
            "31368/31368 [==============================] - 6s 191us/step - loss: 0.0464 - acc: 0.9857 - val_loss: 0.0319 - val_acc: 0.9911\n",
            "Epoch 17/20\n",
            "31368/31368 [==============================] - 6s 203us/step - loss: 0.0550 - acc: 0.9832 - val_loss: 0.0231 - val_acc: 0.9944\n",
            "Epoch 18/20\n",
            "31368/31368 [==============================] - 6s 185us/step - loss: 0.0513 - acc: 0.9852 - val_loss: 0.0160 - val_acc: 0.9958\n",
            "Epoch 19/20\n",
            "31368/31368 [==============================] - 6s 197us/step - loss: 0.0481 - acc: 0.9859 - val_loss: 0.0223 - val_acc: 0.9946\n",
            "Epoch 20/20\n",
            "31368/31368 [==============================] - 6s 184us/step - loss: 0.0500 - acc: 0.9858 - val_loss: 0.0207 - val_acc: 0.9945\n"
          ],
          "name": "stdout"
        },
        {
          "output_type": "execute_result",
          "data": {
            "text/plain": [
              "<matplotlib.legend.Legend at 0x7fd32c109fd0>"
            ]
          },
          "metadata": {
            "tags": []
          },
          "execution_count": 8
        },
        {
          "output_type": "display_data",
          "data": {
            "text/plain": [
              "<Figure size 432x288 with 1 Axes>"
            ],
            "image/png": "[encoded data removed]"
          },
          "metadata": {
            "tags": [],
            "needs_background": "light"
          }
        },
        {
          "output_type": "display_data",
          "data": {
            "text/plain": [
              "<Figure size 432x288 with 1 Axes>"
            ],
            "image/png": "[encoded data removed]"
          },
          "metadata": {
            "tags": [],
            "needs_background": "light"
          }
        }
      ]
    },
    {
      "cell_type": "code",
      "metadata": {
        "trusted": true,
        "id": "P5muma6ft1Jv",
        "outputId": "58f40530-abc2-467f-e58b-399a59be1947"
      },
      "source": [
        "%cd gtsrb-german-traffic-sign"
      ],
      "execution_count": null,
      "outputs": [
        {
          "output_type": "stream",
          "text": [
            "/kaggle/input\n"
          ],
          "name": "stdout"
        }
      ]
    },
    {
      "cell_type": "code",
      "metadata": {
        "trusted": true,
        "id": "XnqYT1fpt1Jy",
        "outputId": "f1193147-3a53-4166-b1df-fa1c4d8ca503",
        "colab": {
          "base_uri": "https://localhost:8080/",
          "height": 229
        }
      },
      "source": [
        "#Predicting with the test data\n",
        "y_test=pd.read_csv(\"Test.csv\")\n",
        "labels=y_test['Path'].as_matrix()\n",
        "y_test=y_test['ClassId'].values\n",
        "\n",
        "data=[]\n",
        "\n",
        "for f in labels:\n",
        "    image=cv2.imread('../input/test/'+f.replace('Test/', ''))\n",
        "    image_from_array = Image.fromarray(image, 'RGB')\n",
        "    size_image = image_from_array.resize((height, width))\n",
        "    data.append(np.array(size_image))\n",
        "\n",
        "X_test=np.array(data)\n",
        "X_test = X_test.astype('float32')/255 \n",
        "pred = model.predict_classes(X_test)"
      ],
      "execution_count": null,
      "outputs": [
        {
          "output_type": "error",
          "ename": "NameError",
          "evalue": "ignored",
          "traceback": [
            "\u001b[0;31m---------------------------------------------------------------------------\u001b[0m",
            "\u001b[0;31mNameError\u001b[0m                                 Traceback (most recent call last)",
            "\u001b[0;32m<ipython-input-2-82f751dcc75e>\u001b[0m in \u001b[0;36m<module>\u001b[0;34m()\u001b[0m\n\u001b[1;32m      1\u001b[0m \u001b[0;31m#Predicting with the test data\u001b[0m\u001b[0;34m\u001b[0m\u001b[0;34m\u001b[0m\u001b[0;34m\u001b[0m\u001b[0m\n\u001b[0;32m----> 2\u001b[0;31m \u001b[0my_test\u001b[0m\u001b[0;34m=\u001b[0m\u001b[0mpd\u001b[0m\u001b[0;34m.\u001b[0m\u001b[0mread_csv\u001b[0m\u001b[0;34m(\u001b[0m\u001b[0;34m\"Test.csv\"\u001b[0m\u001b[0;34m)\u001b[0m\u001b[0;34m\u001b[0m\u001b[0;34m\u001b[0m\u001b[0m\n\u001b[0m\u001b[1;32m      3\u001b[0m \u001b[0mlabels\u001b[0m\u001b[0;34m=\u001b[0m\u001b[0my_test\u001b[0m\u001b[0;34m[\u001b[0m\u001b[0;34m'Path'\u001b[0m\u001b[0;34m]\u001b[0m\u001b[0;34m.\u001b[0m\u001b[0mas_matrix\u001b[0m\u001b[0;34m(\u001b[0m\u001b[0;34m)\u001b[0m\u001b[0;34m\u001b[0m\u001b[0;34m\u001b[0m\u001b[0m\n\u001b[1;32m      4\u001b[0m \u001b[0my_test\u001b[0m\u001b[0;34m=\u001b[0m\u001b[0my_test\u001b[0m\u001b[0;34m[\u001b[0m\u001b[0;34m'ClassId'\u001b[0m\u001b[0;34m]\u001b[0m\u001b[0;34m.\u001b[0m\u001b[0mvalues\u001b[0m\u001b[0;34m\u001b[0m\u001b[0;34m\u001b[0m\u001b[0m\n\u001b[1;32m      5\u001b[0m \u001b[0;34m\u001b[0m\u001b[0m\n",
            "\u001b[0;31mNameError\u001b[0m: name 'pd' is not defined"
          ]
        }
      ]
    },
    {
      "cell_type": "markdown",
      "metadata": {
        "id": "aU68whBDChgO"
      },
      "source": [
        "To test the accuracy:"
      ]
    },
    {
      "cell_type": "code",
      "metadata": {
        "trusted": true,
        "id": "t-cbMflht1J2",
        "outputId": "f902c4f2-bb66-4c9b-9238-6ebdfc4a324a",
        "colab": {
          "base_uri": "https://localhost:8080/",
          "height": 195
        }
      },
      "source": [
        "#Accuracy with the test data\n",
        "from sklearn.metrics import accuracy_score\n",
        "accuracy_score(y_test, pred)"
      ],
      "execution_count": null,
      "outputs": [
        {
          "output_type": "error",
          "ename": "NameError",
          "evalue": "ignored",
          "traceback": [
            "\u001b[0;31m---------------------------------------------------------------------------\u001b[0m",
            "\u001b[0;31mNameError\u001b[0m                                 Traceback (most recent call last)",
            "\u001b[0;32m<ipython-input-1-18d34f0a3ebd>\u001b[0m in \u001b[0;36m<module>\u001b[0;34m()\u001b[0m\n\u001b[1;32m      1\u001b[0m \u001b[0;31m#Accuracy with the test data\u001b[0m\u001b[0;34m\u001b[0m\u001b[0;34m\u001b[0m\u001b[0;34m\u001b[0m\u001b[0m\n\u001b[1;32m      2\u001b[0m \u001b[0;32mfrom\u001b[0m \u001b[0msklearn\u001b[0m\u001b[0;34m.\u001b[0m\u001b[0mmetrics\u001b[0m \u001b[0;32mimport\u001b[0m \u001b[0maccuracy_score\u001b[0m\u001b[0;34m\u001b[0m\u001b[0;34m\u001b[0m\u001b[0m\n\u001b[0;32m----> 3\u001b[0;31m \u001b[0maccuracy_score\u001b[0m\u001b[0;34m(\u001b[0m\u001b[0my_test\u001b[0m\u001b[0;34m,\u001b[0m \u001b[0mpred\u001b[0m\u001b[0;34m)\u001b[0m\u001b[0;34m\u001b[0m\u001b[0;34m\u001b[0m\u001b[0m\n\u001b[0m",
            "\u001b[0;31mNameError\u001b[0m: name 'y_test' is not defined"
          ]
        }
      ]
    },
    {
      "cell_type": "markdown",
      "metadata": {
        "id": "HLX9sBtXC0E-"
      },
      "source": [
        "**The End**"
      ]
    },
    {
      "cell_type": "code",
      "metadata": {
        "trusted": true,
        "id": "JnMujU58t1J4"
      },
      "source": [
        ""
      ],
      "execution_count": null,
      "outputs": []
    }
  ]
}